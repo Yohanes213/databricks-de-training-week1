{
 "cells": [
  {
   "cell_type": "markdown",
   "metadata": {
    "application/vnd.databricks.v1+cell": {
     "cellMetadata": {
      "byteLimit": 2048000,
      "rowLimit": 10000
     },
     "inputWidgets": {},
     "nuid": "323a9819-a5a3-4606-a44b-481b06b846bb",
     "showTitle": false,
     "tableResultSettingsMap": {},
     "title": ""
    }
   },
   "source": [
    "# Week 1 Sales Data Exploration\n",
    "This notebook demonstrates the end-to-end process of ingesting, exploring, and transforming mock sales data using Databricks.  \n",
    "\n",
    "In this notebook:\n",
    "1. Execute simple Python and SQL snippets.  \n",
    "2. Upload and load the CSV into a PySpark DataFrame.\n",
    "3. Perform initial DataFrame exploration (row counts, schema, summary statistics).\n",
    "4. Create a temporary SQL view and run SQL queries for deeper insights.\n",
    "5. Convert and clean data types, handle missing values, and add new calculated columns.  \n",
    "6. Filter and order your data to generate targeted views (e.g., credit-card sales).\n",
    "\n"
   ]
  },
  {
   "cell_type": "code",
   "execution_count": 0,
   "metadata": {
    "application/vnd.databricks.v1+cell": {
     "cellMetadata": {
      "byteLimit": 2048000,
      "rowLimit": 10000
     },
     "inputWidgets": {},
     "nuid": "ac349123-493f-4006-bf58-d4c1f2a41b01",
     "showTitle": false,
     "tableResultSettingsMap": {},
     "title": ""
    }
   },
   "outputs": [
    {
     "output_type": "stream",
     "name": "stdout",
     "output_type": "stream",
     "text": [
      "Hello, Databricks!\n"
     ]
    }
   ],
   "source": [
    "# Display a greeting message from Python\n",
    "print(\"Hello, Databricks!\")"
   ]
  },
  {
   "cell_type": "code",
   "execution_count": 0,
   "metadata": {
    "application/vnd.databricks.v1+cell": {
     "cellMetadata": {
      "byteLimit": 2048000,
      "implicitDf": true,
      "rowLimit": 10000
     },
     "inputWidgets": {},
     "nuid": "5faf2500-0019-4f85-8716-cf759b71a6b4",
     "showTitle": false,
     "tableResultSettingsMap": {},
     "title": ""
    }
   },
   "outputs": [
    {
     "output_type": "display_data",
     "data": {
      "text/html": [
       "<style scoped>\n",
       "  .table-result-container {\n",
       "    max-height: 300px;\n",
       "    overflow: auto;\n",
       "  }\n",
       "  table, th, td {\n",
       "    border: 1px solid black;\n",
       "    border-collapse: collapse;\n",
       "  }\n",
       "  th, td {\n",
       "    padding: 5px;\n",
       "  }\n",
       "  th {\n",
       "    text-align: left;\n",
       "  }\n",
       "</style><div class='table-result-container'><table class='table-result'><thead style='background-color: white'><tr><th>message</th></tr></thead><tbody><tr><td>Hello from SQL!</td></tr></tbody></table></div>"
      ]
     },
     "metadata": {
      "application/vnd.databricks.v1+output": {
       "addedWidgets": {},
       "aggData": [],
       "aggError": "",
       "aggOverflow": false,
       "aggSchema": [],
       "aggSeriesLimitReached": false,
       "aggType": "",
       "arguments": {},
       "columnCustomDisplayInfos": {},
       "data": [
        [
         "Hello from SQL!"
        ]
       ],
       "datasetInfos": [
        {
         "name": "_sqldf",
         "schema": {
          "fields": [
           {
            "metadata": {},
            "name": "message",
            "nullable": false,
            "type": "string"
           }
          ],
          "type": "struct"
         },
         "tableIdentifier": null,
         "typeStr": "pyspark.sql.connect.dataframe.DataFrame"
        }
       ],
       "dbfsResultPath": null,
       "isJsonSchema": true,
       "metadata": {
        "createTempViewForImplicitDf": true,
        "dataframeName": "_sqldf",
        "executionCount": 2
       },
       "overflow": false,
       "plotOptions": {
        "customPlotOptions": {},
        "displayType": "table",
        "pivotAggregation": null,
        "pivotColumns": null,
        "xColumns": null,
        "yColumns": null
       },
       "removedWidgets": [],
       "schema": [
        {
         "metadata": "{}",
         "name": "message",
         "type": "\"string\""
        }
       ],
       "type": "table"
      }
     },
     "output_type": "display_data"
    }
   ],
   "source": [
    "%sql\n",
    "-- Display a freeting message from SQL\n",
    "SELECT \"Hello from SQL!\" AS message"
   ]
  },
  {
   "cell_type": "markdown",
   "metadata": {
    "application/vnd.databricks.v1+cell": {
     "cellMetadata": {
      "byteLimit": 2048000,
      "rowLimit": 10000
     },
     "inputWidgets": {},
     "nuid": "f5728327-0465-415d-a6be-ea78c2c3b208",
     "showTitle": false,
     "tableResultSettingsMap": {},
     "title": ""
    }
   },
   "source": [
    "## Data Ingestion & Exploration with PySpark"
   ]
  },
  {
   "cell_type": "markdown",
   "metadata": {
    "application/vnd.databricks.v1+cell": {
     "cellMetadata": {
      "byteLimit": 2048000,
      "rowLimit": 10000
     },
     "inputWidgets": {},
     "nuid": "2a7d82cf-db41-4e43-a5ed-974156c4ef63",
     "showTitle": false,
     "tableResultSettingsMap": {},
     "title": ""
    }
   },
   "source": [
    "#### Load CSV Data into a PySpark DataFrame"
   ]
  },
  {
   "cell_type": "code",
   "execution_count": 0,
   "metadata": {
    "application/vnd.databricks.v1+cell": {
     "cellMetadata": {
      "byteLimit": 2048000,
      "rowLimit": 10000
     },
     "inputWidgets": {},
     "nuid": "110a4c9f-dacf-413b-b87b-a4194738ee5b",
     "showTitle": false,
     "tableResultSettingsMap": {},
     "title": ""
    }
   },
   "outputs": [
    {
     "output_type": "stream",
     "name": "stdout",
     "output_type": "stream",
     "text": [
      "+-------------+-------------------+----------+-------------------+---------------+--------+------------------+-------------+-------------+\n|TransactionID|    TransactionDate|CustomerID|            Product|ProductCategory|Quantity|        SaleAmount|PaymentMethod|StoreLocation|\n+-------------+-------------------+----------+-------------------+---------------+--------+------------------+-------------+-------------+\n|       TID001|2023-01-15 17:49:00|   CUST085|         Laptop Pro|    Electronics|       3|           2528.43|  Credit Card|  Los Angeles|\n|       TID002|2023-01-16 17:57:00|   CUST102|     Wireless Mouse|    Electronics|       2|           2088.02|         NULL|       Online|\n|       TID003|2023-01-17 13:50:00|   CUST301|       Office Chair|      Furniture|       2|            864.66|       PayPal|  Los Angeles|\n|       TID004|2023-01-18 16:06:00|   CUST102|       Coffee Maker|     Appliances|       2|           2688.94|       PayPal|       Online|\n|       TID005|2023-01-19 11:33:00|   CUST301| Data Science Intro|          Books|       3|           1949.52|    Gift Card|      Chicago|\n|       TID006|2023-01-20 14:04:00|   CUST102|       Smartphone X|    Electronics|       2|            2235.1|         Cash|       Online|\n|       TID007|2023-01-21 16:43:00|   CUST007|External Hard Drive|    Electronics|       1|           1357.63|         Cash|  Los Angeles|\n|       TID008|2023-01-22 12:27:00|   CUST102|          Desk Lamp|      Furniture|       1|            1099.0|         NULL|       Online|\n|       TID009|2023-01-23 11:00:00|   CUST301|            Toaster|     Appliances|       3|           1308.99|    Gift Card|       Online|\n|       TID010|2023-01-24 16:37:00|   CUST210|    Advanced Python|          Books|       1|           1499.83|       PayPal|  Los Angeles|\n|       TID011|2023-01-25 16:52:00|   CUST123|    Gaming Keyboard|    Electronics|       3|           2193.93|         NULL|  Los Angeles|\n|       TID012|2023-01-26 12:22:00|   CUST999|          Bookshelf|      Furniture|       1|            181.81|         Cash|       Online|\n|       TID013|2023-01-27 09:42:00|   CUST085|        Smart Watch|    Electronics|       3|           2057.37|       PayPal|  Los Angeles|\n|       TID014|2023-01-28 13:13:00|   CUST102|            Blender|     Appliances|       2|            269.32|   Debit Card|     New York|\n|       TID015|2023-01-29 16:16:00|   CUST085|     Learning Spark|          Books|       3|1362.6299999999999|   Debit Card|       Online|\n|       TID016|2023-01-30 16:14:00|   CUST301|            Monitor|    Electronics|       2|           2837.46|   Debit Card|       Online|\n|       TID017|2023-01-31 10:25:00|   CUST123|    Ergonomic Mouse|    Electronics|       1|           1051.28|   Debit Card|       Online|\n|       TID018|2023-02-01 13:59:00|   CUST450|     Filing Cabinet|      Furniture|       1|            711.12|    Gift Card|     New York|\n|       TID019|2023-02-02 14:10:00|   CUST450|         Headphones|    Electronics|       1|            634.28|    Gift Card|       Online|\n|       TID020|2023-02-03 12:32:00|   CUST301|          Air Fryer|     Appliances|       1|           1476.55|         Cash|     New York|\n+-------------+-------------------+----------+-------------------+---------------+--------+------------------+-------------+-------------+\nonly showing top 20 rows\nroot\n |-- TransactionID: string (nullable = true)\n |-- TransactionDate: timestamp (nullable = true)\n |-- CustomerID: string (nullable = true)\n |-- Product: string (nullable = true)\n |-- ProductCategory: string (nullable = true)\n |-- Quantity: integer (nullable = true)\n |-- SaleAmount: double (nullable = true)\n |-- PaymentMethod: string (nullable = true)\n |-- StoreLocation: string (nullable = true)\n\n"
     ]
    }
   ],
   "source": [
    "# Path to your uploaded CSV file in DBFS\n",
    "file_path = \"/FileStore/tables/mock_sales_data.csv\"\n",
    "\n",
    "# Read the CSV file into a DataFrame\n",
    "# Infer schema and specify that the first row is the header\n",
    "sales_df = spark.read.format(\"csv\") \\\n",
    "    .option(\"header\", \"true\") \\\n",
    "    .option(\"inferSchema\", \"true\") \\\n",
    "    .load(file_path)\n",
    "\n",
    "# Display the DataFrame (shows top 20 rows by default)\n",
    "sales_df.show()\n",
    "\n",
    "# Print the schema of the DataFrame\n",
    "sales_df.printSchema()"
   ]
  },
  {
   "cell_type": "markdown",
   "metadata": {
    "application/vnd.databricks.v1+cell": {
     "cellMetadata": {
      "byteLimit": 2048000,
      "rowLimit": 10000
     },
     "inputWidgets": {},
     "nuid": "ec304210-c6a9-492a-9b71-b3f292d02606",
     "showTitle": false,
     "tableResultSettingsMap": {},
     "title": ""
    }
   },
   "source": [
    "#### Basic DataFrame Exploration"
   ]
  },
  {
   "cell_type": "code",
   "execution_count": 0,
   "metadata": {
    "application/vnd.databricks.v1+cell": {
     "cellMetadata": {
      "byteLimit": 2048000,
      "rowLimit": 10000
     },
     "inputWidgets": {},
     "nuid": "b5b60a9b-716d-4270-b011-0ba7acb67b81",
     "showTitle": false,
     "tableResultSettingsMap": {},
     "title": ""
    }
   },
   "outputs": [
    {
     "output_type": "stream",
     "name": "stdout",
     "output_type": "stream",
     "text": [
      "Total number of rows:\n30\n"
     ]
    }
   ],
   "source": [
    "# Count the total number of rows\n",
    "print(\"Total number of rows:\")\n",
    "print(sales_df.count())"
   ]
  },
  {
   "cell_type": "code",
   "execution_count": 0,
   "metadata": {
    "application/vnd.databricks.v1+cell": {
     "cellMetadata": {
      "byteLimit": 2048000,
      "rowLimit": 10000
     },
     "inputWidgets": {},
     "nuid": "9310825c-c767-44ed-874e-fbf00822f76e",
     "showTitle": false,
     "tableResultSettingsMap": {},
     "title": ""
    }
   },
   "outputs": [
    {
     "output_type": "stream",
     "name": "stdout",
     "output_type": "stream",
     "text": [
      "First 5 rows:\n+-------------+-------------------+----------+------------------+---------------+--------+----------+-------------+-------------+\n|TransactionID|    TransactionDate|CustomerID|           Product|ProductCategory|Quantity|SaleAmount|PaymentMethod|StoreLocation|\n+-------------+-------------------+----------+------------------+---------------+--------+----------+-------------+-------------+\n|       TID001|2023-01-15 17:49:00|   CUST085|        Laptop Pro|    Electronics|       3|   2528.43|  Credit Card|  Los Angeles|\n|       TID002|2023-01-16 17:57:00|   CUST102|    Wireless Mouse|    Electronics|       2|   2088.02|         NULL|       Online|\n|       TID003|2023-01-17 13:50:00|   CUST301|      Office Chair|      Furniture|       2|    864.66|       PayPal|  Los Angeles|\n|       TID004|2023-01-18 16:06:00|   CUST102|      Coffee Maker|     Appliances|       2|   2688.94|       PayPal|       Online|\n|       TID005|2023-01-19 11:33:00|   CUST301|Data Science Intro|          Books|       3|   1949.52|    Gift Card|      Chicago|\n+-------------+-------------------+----------+------------------+---------------+--------+----------+-------------+-------------+\nonly showing top 5 rows\n"
     ]
    }
   ],
   "source": [
    "# Display the first 5 rows\n",
    "print(\"First 5 rows:\")\n",
    "display(sales_df.show(5))"
   ]
  },
  {
   "cell_type": "code",
   "execution_count": 0,
   "metadata": {
    "application/vnd.databricks.v1+cell": {
     "cellMetadata": {
      "byteLimit": 2048000,
      "rowLimit": 10000
     },
     "inputWidgets": {},
     "nuid": "2ed4ac6d-04b6-4cac-85a2-b16e2d8ff3ad",
     "showTitle": false,
     "tableResultSettingsMap": {},
     "title": ""
    }
   },
   "outputs": [
    {
     "output_type": "stream",
     "name": "stdout",
     "output_type": "stream",
     "text": [
      "Descriptive statistics:\n+-------+-------------+----------+---------------+---------------+------------------+------------------+-------------+-------------+\n|summary|TransactionID|CustomerID|        Product|ProductCategory|          Quantity|        SaleAmount|PaymentMethod|StoreLocation|\n+-------+-------------+----------+---------------+---------------+------------------+------------------+-------------+-------------+\n|  count|           30|        30|             30|             30|                30|                30|           24|           30|\n|   mean|         NULL|      NULL|           NULL|           NULL|1.9666666666666666|1444.2346666666667|         NULL|         NULL|\n| stddev|         NULL|      NULL|           NULL|           NULL|0.8502873077655143| 855.9768525098349|         NULL|         NULL|\n|    min|       TID001|   CUST007|Advanced Python|    Accessories|                 1|154.64999999999998|         Cash|      Chicago|\n|    max|       TID030|   CUST999|       Yoga Mat|         Sports|                 3|           2837.46|       PayPal|       Online|\n+-------+-------------+----------+---------------+---------------+------------------+------------------+-------------+-------------+\n\n"
     ]
    }
   ],
   "source": [
    "# Generate descriptive statistics for the DataFrame\n",
    "print(\"Descriptive statistics:\")\n",
    "display(sales_df.describe().show())"
   ]
  },
  {
   "cell_type": "code",
   "execution_count": 0,
   "metadata": {
    "application/vnd.databricks.v1+cell": {
     "cellMetadata": {
      "byteLimit": 2048000,
      "rowLimit": 10000
     },
     "inputWidgets": {},
     "nuid": "575e5343-26c1-474d-8744-f2e5ad368b0a",
     "showTitle": false,
     "tableResultSettingsMap": {},
     "title": ""
    }
   },
   "outputs": [
    {
     "output_type": "stream",
     "name": "stdout",
     "output_type": "stream",
     "text": [
      "First 5 rows of `TransactionID`, `Product`, `SaleAmount` columns:\n+-------------+------------------+----------+\n|TransactionID|           Product|SaleAmount|\n+-------------+------------------+----------+\n|       TID001|        Laptop Pro|   2528.43|\n|       TID002|    Wireless Mouse|   2088.02|\n|       TID003|      Office Chair|    864.66|\n|       TID004|      Coffee Maker|   2688.94|\n|       TID005|Data Science Intro|   1949.52|\n+-------------+------------------+----------+\nonly showing top 5 rows\n"
     ]
    }
   ],
   "source": [
    "# Display the first 5 rows of the  `TransactionID`, `Product`, `SaleAmount` columns\n",
    "print(\"First 5 rows of `TransactionID`, `Product`, `SaleAmount` columns:\")\n",
    "display(sales_df.select(\"TransactionID\", \"Product\", \"SaleAmount\").show(5))"
   ]
  },
  {
   "cell_type": "markdown",
   "metadata": {
    "application/vnd.databricks.v1+cell": {
     "cellMetadata": {
      "byteLimit": 2048000,
      "rowLimit": 10000
     },
     "inputWidgets": {},
     "nuid": "08b10ad3-1182-49de-a38d-938eb82a0002",
     "showTitle": false,
     "tableResultSettingsMap": {},
     "title": ""
    }
   },
   "source": [
    "## Basic Data Transformation & Cleansing with Spark SQL & PySpark"
   ]
  },
  {
   "cell_type": "markdown",
   "metadata": {
    "application/vnd.databricks.v1+cell": {
     "cellMetadata": {
      "byteLimit": 2048000,
      "rowLimit": 10000
     },
     "inputWidgets": {},
     "nuid": "047a9f2b-0f25-420a-8419-0a71aaac306a",
     "showTitle": false,
     "tableResultSettingsMap": {},
     "title": ""
    }
   },
   "source": [
    "#### Using Spark SQL for Exploration"
   ]
  },
  {
   "cell_type": "code",
   "execution_count": 0,
   "metadata": {
    "application/vnd.databricks.v1+cell": {
     "cellMetadata": {
      "byteLimit": 2048000,
      "rowLimit": 10000
     },
     "inputWidgets": {},
     "nuid": "de208646-468c-414f-aa32-74b58cb2b7b1",
     "showTitle": false,
     "tableResultSettingsMap": {},
     "title": ""
    }
   },
   "outputs": [],
   "source": [
    "# Create a temporary view from the DataFrame\n",
    "sales_df.createOrReplaceTempView(\"sales_data_view\")"
   ]
  },
  {
   "cell_type": "code",
   "execution_count": 0,
   "metadata": {
    "application/vnd.databricks.v1+cell": {
     "cellMetadata": {
      "byteLimit": 2048000,
      "rowLimit": 10000
     },
     "inputWidgets": {},
     "nuid": "84796f5a-b4f9-4972-b2ab-4ea7dade538d",
     "showTitle": false,
     "tableResultSettingsMap": {},
     "title": ""
    }
   },
   "outputs": [
    {
     "output_type": "stream",
     "name": "stdout",
     "output_type": "stream",
     "text": [
      "+-------------+-------------------+----------+-------------------+---------------+--------+----------+-------------+-------------+\n|TransactionID|    TransactionDate|CustomerID|            Product|ProductCategory|Quantity|SaleAmount|PaymentMethod|StoreLocation|\n+-------------+-------------------+----------+-------------------+---------------+--------+----------+-------------+-------------+\n|       TID001|2023-01-15 17:49:00|   CUST085|         Laptop Pro|    Electronics|       3|   2528.43|  Credit Card|  Los Angeles|\n|       TID002|2023-01-16 17:57:00|   CUST102|     Wireless Mouse|    Electronics|       2|   2088.02|         NULL|       Online|\n|       TID003|2023-01-17 13:50:00|   CUST301|       Office Chair|      Furniture|       2|    864.66|       PayPal|  Los Angeles|\n|       TID004|2023-01-18 16:06:00|   CUST102|       Coffee Maker|     Appliances|       2|   2688.94|       PayPal|       Online|\n|       TID005|2023-01-19 11:33:00|   CUST301| Data Science Intro|          Books|       3|   1949.52|    Gift Card|      Chicago|\n|       TID006|2023-01-20 14:04:00|   CUST102|       Smartphone X|    Electronics|       2|    2235.1|         Cash|       Online|\n|       TID007|2023-01-21 16:43:00|   CUST007|External Hard Drive|    Electronics|       1|   1357.63|         Cash|  Los Angeles|\n|       TID008|2023-01-22 12:27:00|   CUST102|          Desk Lamp|      Furniture|       1|    1099.0|         NULL|       Online|\n|       TID009|2023-01-23 11:00:00|   CUST301|            Toaster|     Appliances|       3|   1308.99|    Gift Card|       Online|\n|       TID010|2023-01-24 16:37:00|   CUST210|    Advanced Python|          Books|       1|   1499.83|       PayPal|  Los Angeles|\n+-------------+-------------------+----------+-------------------+---------------+--------+----------+-------------+-------------+\n\n"
     ]
    }
   ],
   "source": [
    "# Define a SQL query to fetch the first 10 rows from our temporary view\n",
    "sql_query = \"SELECT * FROM sales_data_view LIMIT 10;\"\n",
    "\n",
    "display(spark.sql(sql_query).show())"
   ]
  },
  {
   "cell_type": "code",
   "execution_count": 0,
   "metadata": {
    "application/vnd.databricks.v1+cell": {
     "cellMetadata": {
      "byteLimit": 2048000,
      "rowLimit": 10000
     },
     "inputWidgets": {},
     "nuid": "3cb5304b-76ee-492d-b29a-3b3905c77dbc",
     "showTitle": false,
     "tableResultSettingsMap": {},
     "title": ""
    }
   },
   "outputs": [
    {
     "output_type": "stream",
     "name": "stdout",
     "output_type": "stream",
     "text": [
      "+---------------+\n|ProductCategory|\n+---------------+\n|         Sports|\n|    Electronics|\n|       Clothing|\n|       Footwear|\n|          Books|\n|      Furniture|\n|    Accessories|\n|     Appliances|\n+---------------+\n\n"
     ]
    }
   ],
   "source": [
    "# Define a SQL query to get distinct PrdoductCategory from our temporary view\n",
    "sql_query = \"SELECT DISTINCT ProductCategory FROM sales_data_view\"\n",
    "\n",
    "spark.sql(sql_query).show()"
   ]
  },
  {
   "cell_type": "code",
   "execution_count": 0,
   "metadata": {
    "application/vnd.databricks.v1+cell": {
     "cellMetadata": {
      "byteLimit": 2048000,
      "rowLimit": 10000
     },
     "inputWidgets": {},
     "nuid": "ee2467fe-3d93-4642-9f5e-7dad1618b55f",
     "showTitle": false,
     "tableResultSettingsMap": {},
     "title": ""
    }
   },
   "outputs": [
    {
     "output_type": "stream",
     "name": "stdout",
     "output_type": "stream",
     "text": [
      "+-------------------+------------------+\n|            Product|        TotalSales|\n+-------------------+------------------+\n|            Monitor|           2837.46|\n|       Water Bottle|           2714.02|\n|       Coffee Maker|           2688.94|\n|     Desk Organizer|           2599.89|\n|         Laptop Pro|           2528.43|\n|      Standing Desk|           2342.98|\n|       Smartphone X|            2235.1|\n|    Gaming Keyboard|           2193.93|\n|     Wireless Mouse|           2088.02|\n|        Smart Watch|           2057.37|\n| Data Science Intro|           1949.52|\n|           Yoga Mat|1839.1799999999998|\n|    Advanced Python|           1499.83|\n|          Air Fryer|           1476.55|\n|     Learning Spark|1362.6299999999999|\n|External Hard Drive|           1357.63|\n|            Toaster|           1308.99|\n|      Running Shoes|           1165.54|\n|            T-Shirt|           1123.56|\n|          Desk Lamp|            1099.0|\n+-------------------+------------------+\nonly showing top 20 rows\n"
     ]
    }
   ],
   "source": [
    "# Define a SQL query to calculate the total sales for each product and order by total sales in descending order\n",
    "sql_query = \"\"\"SELECT Product, SUM(SaleAmount) as TotalSales\n",
    "           FROM sales_data_view\n",
    "           GROUP BY Product\n",
    "           ORDER BY TotalSales DESC\n",
    "        \"\"\"\n",
    "\n",
    "spark.sql(sql_query).show()"
   ]
  },
  {
   "cell_type": "code",
   "execution_count": 0,
   "metadata": {
    "application/vnd.databricks.v1+cell": {
     "cellMetadata": {
      "byteLimit": 2048000,
      "rowLimit": 10000
     },
     "inputWidgets": {},
     "nuid": "aae4247c-4622-47e9-89a2-7ea2aa4f4370",
     "showTitle": false,
     "tableResultSettingsMap": {},
     "title": ""
    }
   },
   "outputs": [
    {
     "output_type": "display_data",
     "data": {
      "text/html": [
       "<style scoped>\n",
       "  .table-result-container {\n",
       "    max-height: 300px;\n",
       "    overflow: auto;\n",
       "  }\n",
       "  table, th, td {\n",
       "    border: 1px solid black;\n",
       "    border-collapse: collapse;\n",
       "  }\n",
       "  th, td {\n",
       "    padding: 5px;\n",
       "  }\n",
       "  th {\n",
       "    text-align: left;\n",
       "  }\n",
       "</style><div class='table-result-container'><table class='table-result'><thead style='background-color: white'><tr><th>TransactionID</th><th>TransactionDate</th><th>CustomerID</th><th>Product</th><th>ProductCategory</th><th>Quantity</th><th>SaleAmount</th><th>PaymentMethod</th><th>StoreLocation</th></tr></thead><tbody><tr><td>TID001</td><td>2023-01-15T17:49:00Z</td><td>CUST085</td><td>Laptop Pro</td><td>Electronics</td><td>3</td><td>2528.43</td><td>Credit Card</td><td>Los Angeles</td></tr><tr><td>TID013</td><td>2023-01-27T09:42:00Z</td><td>CUST085</td><td>Smart Watch</td><td>Electronics</td><td>3</td><td>2057.37</td><td>PayPal</td><td>Los Angeles</td></tr><tr><td>TID015</td><td>2023-01-29T16:16:00Z</td><td>CUST085</td><td>Learning Spark</td><td>Books</td><td>3</td><td>1362.6299999999999</td><td>Debit Card</td><td>Online</td></tr></tbody></table></div>"
      ]
     },
     "metadata": {
      "application/vnd.databricks.v1+output": {
       "addedWidgets": {},
       "aggData": [],
       "aggError": "",
       "aggOverflow": false,
       "aggSchema": [],
       "aggSeriesLimitReached": false,
       "aggType": "",
       "arguments": {},
       "columnCustomDisplayInfos": {},
       "data": [
        [
         "TID001",
         "2023-01-15T17:49:00Z",
         "CUST085",
         "Laptop Pro",
         "Electronics",
         3,
         2528.43,
         "Credit Card",
         "Los Angeles"
        ],
        [
         "TID013",
         "2023-01-27T09:42:00Z",
         "CUST085",
         "Smart Watch",
         "Electronics",
         3,
         2057.37,
         "PayPal",
         "Los Angeles"
        ],
        [
         "TID015",
         "2023-01-29T16:16:00Z",
         "CUST085",
         "Learning Spark",
         "Books",
         3,
         1362.6299999999999,
         "Debit Card",
         "Online"
        ]
       ],
       "datasetInfos": [],
       "dbfsResultPath": null,
       "isJsonSchema": true,
       "metadata": {},
       "overflow": false,
       "plotOptions": {
        "customPlotOptions": {},
        "displayType": "table",
        "pivotAggregation": null,
        "pivotColumns": null,
        "xColumns": null,
        "yColumns": null
       },
       "removedWidgets": [],
       "schema": [
        {
         "metadata": "{}",
         "name": "TransactionID",
         "type": "\"string\""
        },
        {
         "metadata": "{}",
         "name": "TransactionDate",
         "type": "\"timestamp\""
        },
        {
         "metadata": "{}",
         "name": "CustomerID",
         "type": "\"string\""
        },
        {
         "metadata": "{}",
         "name": "Product",
         "type": "\"string\""
        },
        {
         "metadata": "{}",
         "name": "ProductCategory",
         "type": "\"string\""
        },
        {
         "metadata": "{}",
         "name": "Quantity",
         "type": "\"integer\""
        },
        {
         "metadata": "{}",
         "name": "SaleAmount",
         "type": "\"double\""
        },
        {
         "metadata": "{}",
         "name": "PaymentMethod",
         "type": "\"string\""
        },
        {
         "metadata": "{}",
         "name": "StoreLocation",
         "type": "\"string\""
        }
       ],
       "type": "table"
      }
     },
     "output_type": "display_data"
    }
   ],
   "source": [
    "# Set the CustomerID to be used in the SQL query\n",
    "customer_id = \"CUST085\"\n",
    "\n",
    "# Define a SQL query to select all columns for the specified CustomerID from the sales_data_view\n",
    "sql_query = f\"\"\"SELECT *\n",
    "           FROM sales_data_view\n",
    "           WHERE CustomerID = '{customer_id}'\n",
    "        \"\"\" \n",
    "\n",
    "display(spark.sql(sql_query))"
   ]
  },
  {
   "cell_type": "markdown",
   "metadata": {
    "application/vnd.databricks.v1+cell": {
     "cellMetadata": {},
     "inputWidgets": {},
     "nuid": "2313059a-50a5-441f-a2b4-a6c8653a36a0",
     "showTitle": false,
     "tableResultSettingsMap": {},
     "title": ""
    }
   },
   "source": [
    "#### Data Type Conversion (PySpark)"
   ]
  },
  {
   "cell_type": "code",
   "execution_count": 0,
   "metadata": {
    "application/vnd.databricks.v1+cell": {
     "cellMetadata": {
      "byteLimit": 2048000,
      "rowLimit": 10000
     },
     "inputWidgets": {},
     "nuid": "aff9596c-4083-46b8-a01f-61517c7dba75",
     "showTitle": false,
     "tableResultSettingsMap": {},
     "title": ""
    }
   },
   "outputs": [],
   "source": [
    "from pyspark.sql.functions import to_date, lit, to_timestamp, col, desc, isnan, isnull\n",
    "from pyspark.sql.types import DoubleType, IntegerType"
   ]
  },
  {
   "cell_type": "code",
   "execution_count": 0,
   "metadata": {
    "application/vnd.databricks.v1+cell": {
     "cellMetadata": {
      "byteLimit": 2048000,
      "rowLimit": 10000
     },
     "inputWidgets": {},
     "nuid": "64d1fd59-5e14-4c50-9234-ed9e98866580",
     "showTitle": false,
     "tableResultSettingsMap": {},
     "title": ""
    }
   },
   "outputs": [
    {
     "output_type": "display_data",
     "data": {
      "text/html": [
       "<style scoped>\n",
       "  .table-result-container {\n",
       "    max-height: 300px;\n",
       "    overflow: auto;\n",
       "  }\n",
       "  table, th, td {\n",
       "    border: 1px solid black;\n",
       "    border-collapse: collapse;\n",
       "  }\n",
       "  th, td {\n",
       "    padding: 5px;\n",
       "  }\n",
       "  th {\n",
       "    text-align: left;\n",
       "  }\n",
       "</style><div class='table-result-container'><table class='table-result'><thead style='background-color: white'><tr><th>TransactionID</th><th>TransactionDate</th><th>CustomerID</th><th>Product</th><th>ProductCategory</th><th>Quantity</th><th>SaleAmount</th><th>PaymentMethod</th><th>StoreLocation</th><th>TransactionDate1</th></tr></thead><tbody><tr><td>TID001</td><td>2023-01-15T17:49:00Z</td><td>CUST085</td><td>Laptop Pro</td><td>Electronics</td><td>3</td><td>2528.43</td><td>Credit Card</td><td>Los Angeles</td><td>2023-01-15</td></tr><tr><td>TID002</td><td>2023-01-16T17:57:00Z</td><td>CUST102</td><td>Wireless Mouse</td><td>Electronics</td><td>2</td><td>2088.02</td><td>null</td><td>Online</td><td>2023-01-16</td></tr><tr><td>TID003</td><td>2023-01-17T13:50:00Z</td><td>CUST301</td><td>Office Chair</td><td>Furniture</td><td>2</td><td>864.66</td><td>PayPal</td><td>Los Angeles</td><td>2023-01-17</td></tr><tr><td>TID004</td><td>2023-01-18T16:06:00Z</td><td>CUST102</td><td>Coffee Maker</td><td>Appliances</td><td>2</td><td>2688.94</td><td>PayPal</td><td>Online</td><td>2023-01-18</td></tr><tr><td>TID005</td><td>2023-01-19T11:33:00Z</td><td>CUST301</td><td>Data Science Intro</td><td>Books</td><td>3</td><td>1949.52</td><td>Gift Card</td><td>Chicago</td><td>2023-01-19</td></tr></tbody></table></div>"
      ]
     },
     "metadata": {
      "application/vnd.databricks.v1+output": {
       "addedWidgets": {},
       "aggData": [],
       "aggError": "",
       "aggOverflow": false,
       "aggSchema": [],
       "aggSeriesLimitReached": false,
       "aggType": "",
       "arguments": {},
       "columnCustomDisplayInfos": {},
       "data": [
        [
         "TID001",
         "2023-01-15T17:49:00Z",
         "CUST085",
         "Laptop Pro",
         "Electronics",
         3,
         2528.43,
         "Credit Card",
         "Los Angeles",
         "2023-01-15"
        ],
        [
         "TID002",
         "2023-01-16T17:57:00Z",
         "CUST102",
         "Wireless Mouse",
         "Electronics",
         2,
         2088.02,
         null,
         "Online",
         "2023-01-16"
        ],
        [
         "TID003",
         "2023-01-17T13:50:00Z",
         "CUST301",
         "Office Chair",
         "Furniture",
         2,
         864.66,
         "PayPal",
         "Los Angeles",
         "2023-01-17"
        ],
        [
         "TID004",
         "2023-01-18T16:06:00Z",
         "CUST102",
         "Coffee Maker",
         "Appliances",
         2,
         2688.94,
         "PayPal",
         "Online",
         "2023-01-18"
        ],
        [
         "TID005",
         "2023-01-19T11:33:00Z",
         "CUST301",
         "Data Science Intro",
         "Books",
         3,
         1949.52,
         "Gift Card",
         "Chicago",
         "2023-01-19"
        ]
       ],
       "datasetInfos": [],
       "dbfsResultPath": null,
       "isJsonSchema": true,
       "metadata": {},
       "overflow": false,
       "plotOptions": {
        "customPlotOptions": {},
        "displayType": "table",
        "pivotAggregation": null,
        "pivotColumns": null,
        "xColumns": null,
        "yColumns": null
       },
       "removedWidgets": [],
       "schema": [
        {
         "metadata": "{}",
         "name": "TransactionID",
         "type": "\"string\""
        },
        {
         "metadata": "{}",
         "name": "TransactionDate",
         "type": "\"timestamp\""
        },
        {
         "metadata": "{}",
         "name": "CustomerID",
         "type": "\"string\""
        },
        {
         "metadata": "{}",
         "name": "Product",
         "type": "\"string\""
        },
        {
         "metadata": "{}",
         "name": "ProductCategory",
         "type": "\"string\""
        },
        {
         "metadata": "{}",
         "name": "Quantity",
         "type": "\"integer\""
        },
        {
         "metadata": "{}",
         "name": "SaleAmount",
         "type": "\"double\""
        },
        {
         "metadata": "{}",
         "name": "PaymentMethod",
         "type": "\"string\""
        },
        {
         "metadata": "{}",
         "name": "StoreLocation",
         "type": "\"string\""
        },
        {
         "metadata": "{}",
         "name": "TransactionDate1",
         "type": "\"date\""
        }
       ],
       "type": "table"
      }
     },
     "output_type": "display_data"
    }
   ],
   "source": [
    "# Checking to_date function\n",
    "display(sales_df.withColumn(\"TransactionDate1\",to_date(\"TransactionDate\")) \\\n",
    "  .limit(5))"
   ]
  },
  {
   "cell_type": "code",
   "execution_count": 0,
   "metadata": {
    "application/vnd.databricks.v1+cell": {
     "cellMetadata": {
      "byteLimit": 2048000,
      "rowLimit": 10000
     },
     "inputWidgets": {},
     "nuid": "335e7fdf-df0c-4b60-b436-01addb86ca91",
     "showTitle": false,
     "tableResultSettingsMap": {},
     "title": ""
    }
   },
   "outputs": [
    {
     "output_type": "display_data",
     "data": {
      "text/html": [
       "<style scoped>\n",
       "  .table-result-container {\n",
       "    max-height: 300px;\n",
       "    overflow: auto;\n",
       "  }\n",
       "  table, th, td {\n",
       "    border: 1px solid black;\n",
       "    border-collapse: collapse;\n",
       "  }\n",
       "  th, td {\n",
       "    padding: 5px;\n",
       "  }\n",
       "  th {\n",
       "    text-align: left;\n",
       "  }\n",
       "</style><div class='table-result-container'><table class='table-result'><thead style='background-color: white'><tr><th>TransactionID</th><th>TransactionDate</th><th>CustomerID</th><th>Product</th><th>ProductCategory</th><th>Quantity</th><th>SaleAmount</th><th>PaymentMethod</th><th>StoreLocation</th><th>date</th><th>timestamp</th></tr></thead><tbody><tr><td>TID001</td><td>2023-01-15T17:49:00Z</td><td>CUST085</td><td>Laptop Pro</td><td>Electronics</td><td>3</td><td>2528.43</td><td>Credit Card</td><td>Los Angeles</td><td>2023-01-15</td><td>2023-01-15T17:49:00Z</td></tr><tr><td>TID002</td><td>2023-01-16T17:57:00Z</td><td>CUST102</td><td>Wireless Mouse</td><td>Electronics</td><td>2</td><td>2088.02</td><td>null</td><td>Online</td><td>2023-01-16</td><td>2023-01-16T17:57:00Z</td></tr><tr><td>TID003</td><td>2023-01-17T13:50:00Z</td><td>CUST301</td><td>Office Chair</td><td>Furniture</td><td>2</td><td>864.66</td><td>PayPal</td><td>Los Angeles</td><td>2023-01-17</td><td>2023-01-17T13:50:00Z</td></tr><tr><td>TID004</td><td>2023-01-18T16:06:00Z</td><td>CUST102</td><td>Coffee Maker</td><td>Appliances</td><td>2</td><td>2688.94</td><td>PayPal</td><td>Online</td><td>2023-01-18</td><td>2023-01-18T16:06:00Z</td></tr><tr><td>TID005</td><td>2023-01-19T11:33:00Z</td><td>CUST301</td><td>Data Science Intro</td><td>Books</td><td>3</td><td>1949.52</td><td>Gift Card</td><td>Chicago</td><td>2023-01-19</td><td>2023-01-19T11:33:00Z</td></tr></tbody></table></div>"
      ]
     },
     "metadata": {
      "application/vnd.databricks.v1+output": {
       "addedWidgets": {},
       "aggData": [],
       "aggError": "",
       "aggOverflow": false,
       "aggSchema": [],
       "aggSeriesLimitReached": false,
       "aggType": "",
       "arguments": {},
       "columnCustomDisplayInfos": {},
       "data": [
        [
         "TID001",
         "2023-01-15T17:49:00Z",
         "CUST085",
         "Laptop Pro",
         "Electronics",
         3,
         2528.43,
         "Credit Card",
         "Los Angeles",
         "2023-01-15",
         "2023-01-15T17:49:00Z"
        ],
        [
         "TID002",
         "2023-01-16T17:57:00Z",
         "CUST102",
         "Wireless Mouse",
         "Electronics",
         2,
         2088.02,
         null,
         "Online",
         "2023-01-16",
         "2023-01-16T17:57:00Z"
        ],
        [
         "TID003",
         "2023-01-17T13:50:00Z",
         "CUST301",
         "Office Chair",
         "Furniture",
         2,
         864.66,
         "PayPal",
         "Los Angeles",
         "2023-01-17",
         "2023-01-17T13:50:00Z"
        ],
        [
         "TID004",
         "2023-01-18T16:06:00Z",
         "CUST102",
         "Coffee Maker",
         "Appliances",
         2,
         2688.94,
         "PayPal",
         "Online",
         "2023-01-18",
         "2023-01-18T16:06:00Z"
        ],
        [
         "TID005",
         "2023-01-19T11:33:00Z",
         "CUST301",
         "Data Science Intro",
         "Books",
         3,
         1949.52,
         "Gift Card",
         "Chicago",
         "2023-01-19",
         "2023-01-19T11:33:00Z"
        ]
       ],
       "datasetInfos": [],
       "dbfsResultPath": null,
       "isJsonSchema": true,
       "metadata": {},
       "overflow": false,
       "plotOptions": {
        "customPlotOptions": {},
        "displayType": "table",
        "pivotAggregation": null,
        "pivotColumns": null,
        "xColumns": null,
        "yColumns": null
       },
       "removedWidgets": [],
       "schema": [
        {
         "metadata": "{}",
         "name": "TransactionID",
         "type": "\"string\""
        },
        {
         "metadata": "{}",
         "name": "TransactionDate",
         "type": "\"timestamp\""
        },
        {
         "metadata": "{}",
         "name": "CustomerID",
         "type": "\"string\""
        },
        {
         "metadata": "{}",
         "name": "Product",
         "type": "\"string\""
        },
        {
         "metadata": "{}",
         "name": "ProductCategory",
         "type": "\"string\""
        },
        {
         "metadata": "{}",
         "name": "Quantity",
         "type": "\"integer\""
        },
        {
         "metadata": "{}",
         "name": "SaleAmount",
         "type": "\"double\""
        },
        {
         "metadata": "{}",
         "name": "PaymentMethod",
         "type": "\"string\""
        },
        {
         "metadata": "{}",
         "name": "StoreLocation",
         "type": "\"string\""
        },
        {
         "metadata": "{}",
         "name": "date",
         "type": "\"date\""
        },
        {
         "metadata": "{}",
         "name": "timestamp",
         "type": "\"timestamp\""
        }
       ],
       "type": "table"
      }
     },
     "output_type": "display_data"
    }
   ],
   "source": [
    "# Demonstrate converting the TransactionDate string into a Date vs. a Timestamp column\n",
    "display(sales_df.withColumn(\"date\",to_date(\"TransactionDate\")) \\\n",
    ".withColumn(\"timestamp\",to_timestamp(\"TransactionDate\")).limit(5))"
   ]
  },
  {
   "cell_type": "code",
   "execution_count": 0,
   "metadata": {
    "application/vnd.databricks.v1+cell": {
     "cellMetadata": {
      "byteLimit": 2048000,
      "rowLimit": 10000
     },
     "inputWidgets": {},
     "nuid": "cbd7260c-0953-4136-8cc3-b0e243e0ac7a",
     "showTitle": false,
     "tableResultSettingsMap": {},
     "title": ""
    }
   },
   "outputs": [],
   "source": [
    "# Convert the 'TransactionDate' column to a timestamp type and store it in a new column\n",
    "sales_df_transformed = sales_df.withColumn(\"TransactionTimestamp\", to_timestamp(\"TransactionDate\", \"yyyy-MM-dd HH:mm:ss\"))"
   ]
  },
  {
   "cell_type": "code",
   "execution_count": 0,
   "metadata": {
    "application/vnd.databricks.v1+cell": {
     "cellMetadata": {
      "byteLimit": 2048000,
      "rowLimit": 10000
     },
     "inputWidgets": {},
     "nuid": "944234b6-7cdc-4f2a-b574-b3d5b5d4920a",
     "showTitle": false,
     "tableResultSettingsMap": {},
     "title": ""
    }
   },
   "outputs": [
    {
     "output_type": "stream",
     "name": "stdout",
     "output_type": "stream",
     "text": [
      "root\n |-- TransactionID: string (nullable = true)\n |-- TransactionDate: timestamp (nullable = true)\n |-- CustomerID: string (nullable = true)\n |-- Product: string (nullable = true)\n |-- ProductCategory: string (nullable = true)\n |-- Quantity: integer (nullable = true)\n |-- SaleAmount: double (nullable = true)\n |-- PaymentMethod: string (nullable = true)\n |-- StoreLocation: string (nullable = true)\n |-- TransactionTimestamp: timestamp (nullable = true)\n\n"
     ]
    }
   ],
   "source": [
    "# Check the schema of the DataFrame\n",
    "sales_df_transformed.printSchema()"
   ]
  },
  {
   "cell_type": "code",
   "execution_count": 0,
   "metadata": {
    "application/vnd.databricks.v1+cell": {
     "cellMetadata": {
      "byteLimit": 2048000,
      "rowLimit": 10000
     },
     "inputWidgets": {},
     "nuid": "08c26443-5c4d-47fb-a7fa-d73ce9109844",
     "showTitle": false,
     "tableResultSettingsMap": {},
     "title": ""
    }
   },
   "outputs": [
    {
     "output_type": "stream",
     "name": "stdout",
     "output_type": "stream",
     "text": [
      "+-------------+-------------------+--------------------+\n|TransactionID|TransactionDate    |TransactionTimestamp|\n+-------------+-------------------+--------------------+\n|TID001       |2023-01-15 17:49:00|2023-01-15 17:49:00 |\n|TID002       |2023-01-16 17:57:00|2023-01-16 17:57:00 |\n|TID003       |2023-01-17 13:50:00|2023-01-17 13:50:00 |\n|TID004       |2023-01-18 16:06:00|2023-01-18 16:06:00 |\n|TID005       |2023-01-19 11:33:00|2023-01-19 11:33:00 |\n+-------------+-------------------+--------------------+\nonly showing top 5 rows\n"
     ]
    }
   ],
   "source": [
    "# Display the first 5 rows of TransactionID, TransactionDate, and TransactionTimestamp columns\n",
    "sales_df_transformed.select(\"TransactionID\", \"TransactionDate\", \"TransactionTimestamp\").show(5, truncate=False)"
   ]
  },
  {
   "cell_type": "code",
   "execution_count": 0,
   "metadata": {
    "application/vnd.databricks.v1+cell": {
     "cellMetadata": {
      "byteLimit": 2048000,
      "rowLimit": 10000
     },
     "inputWidgets": {},
     "nuid": "e0ec584e-c496-475e-8100-2def7fda0a45",
     "showTitle": false,
     "tableResultSettingsMap": {},
     "title": ""
    }
   },
   "outputs": [
    {
     "output_type": "display_data",
     "data": {
      "text/html": [
       "<style scoped>\n",
       "  .table-result-container {\n",
       "    max-height: 300px;\n",
       "    overflow: auto;\n",
       "  }\n",
       "  table, th, td {\n",
       "    border: 1px solid black;\n",
       "    border-collapse: collapse;\n",
       "  }\n",
       "  th, td {\n",
       "    padding: 5px;\n",
       "  }\n",
       "  th {\n",
       "    text-align: left;\n",
       "  }\n",
       "</style><div class='table-result-container'><table class='table-result'><thead style='background-color: white'><tr><th>TransactionID</th><th>TransactionDate</th><th>CustomerID</th><th>Product</th><th>ProductCategory</th><th>Quantity</th><th>SaleAmount</th><th>PaymentMethod</th><th>StoreLocation</th><th>TransactionTimestamp</th><th>SaleAmount1</th></tr></thead><tbody><tr><td>TID001</td><td>2023-01-15T17:49:00Z</td><td>CUST085</td><td>Laptop Pro</td><td>Electronics</td><td>3</td><td>2528.43</td><td>Credit Card</td><td>Los Angeles</td><td>2023-01-15T17:49:00Z</td><td>2528</td></tr><tr><td>TID002</td><td>2023-01-16T17:57:00Z</td><td>CUST102</td><td>Wireless Mouse</td><td>Electronics</td><td>2</td><td>2088.02</td><td>null</td><td>Online</td><td>2023-01-16T17:57:00Z</td><td>2088</td></tr><tr><td>TID003</td><td>2023-01-17T13:50:00Z</td><td>CUST301</td><td>Office Chair</td><td>Furniture</td><td>2</td><td>864.66</td><td>PayPal</td><td>Los Angeles</td><td>2023-01-17T13:50:00Z</td><td>864</td></tr><tr><td>TID004</td><td>2023-01-18T16:06:00Z</td><td>CUST102</td><td>Coffee Maker</td><td>Appliances</td><td>2</td><td>2688.94</td><td>PayPal</td><td>Online</td><td>2023-01-18T16:06:00Z</td><td>2688</td></tr><tr><td>TID005</td><td>2023-01-19T11:33:00Z</td><td>CUST301</td><td>Data Science Intro</td><td>Books</td><td>3</td><td>1949.52</td><td>Gift Card</td><td>Chicago</td><td>2023-01-19T11:33:00Z</td><td>1949</td></tr></tbody></table></div>"
      ]
     },
     "metadata": {
      "application/vnd.databricks.v1+output": {
       "addedWidgets": {},
       "aggData": [],
       "aggError": "",
       "aggOverflow": false,
       "aggSchema": [],
       "aggSeriesLimitReached": false,
       "aggType": "",
       "arguments": {},
       "columnCustomDisplayInfos": {},
       "data": [
        [
         "TID001",
         "2023-01-15T17:49:00Z",
         "CUST085",
         "Laptop Pro",
         "Electronics",
         3,
         2528.43,
         "Credit Card",
         "Los Angeles",
         "2023-01-15T17:49:00Z",
         2528
        ],
        [
         "TID002",
         "2023-01-16T17:57:00Z",
         "CUST102",
         "Wireless Mouse",
         "Electronics",
         2,
         2088.02,
         null,
         "Online",
         "2023-01-16T17:57:00Z",
         2088
        ],
        [
         "TID003",
         "2023-01-17T13:50:00Z",
         "CUST301",
         "Office Chair",
         "Furniture",
         2,
         864.66,
         "PayPal",
         "Los Angeles",
         "2023-01-17T13:50:00Z",
         864
        ],
        [
         "TID004",
         "2023-01-18T16:06:00Z",
         "CUST102",
         "Coffee Maker",
         "Appliances",
         2,
         2688.94,
         "PayPal",
         "Online",
         "2023-01-18T16:06:00Z",
         2688
        ],
        [
         "TID005",
         "2023-01-19T11:33:00Z",
         "CUST301",
         "Data Science Intro",
         "Books",
         3,
         1949.52,
         "Gift Card",
         "Chicago",
         "2023-01-19T11:33:00Z",
         1949
        ]
       ],
       "datasetInfos": [],
       "dbfsResultPath": null,
       "isJsonSchema": true,
       "metadata": {},
       "overflow": false,
       "plotOptions": {
        "customPlotOptions": {},
        "displayType": "table",
        "pivotAggregation": null,
        "pivotColumns": null,
        "xColumns": null,
        "yColumns": null
       },
       "removedWidgets": [],
       "schema": [
        {
         "metadata": "{}",
         "name": "TransactionID",
         "type": "\"string\""
        },
        {
         "metadata": "{}",
         "name": "TransactionDate",
         "type": "\"timestamp\""
        },
        {
         "metadata": "{}",
         "name": "CustomerID",
         "type": "\"string\""
        },
        {
         "metadata": "{}",
         "name": "Product",
         "type": "\"string\""
        },
        {
         "metadata": "{}",
         "name": "ProductCategory",
         "type": "\"string\""
        },
        {
         "metadata": "{}",
         "name": "Quantity",
         "type": "\"integer\""
        },
        {
         "metadata": "{}",
         "name": "SaleAmount",
         "type": "\"double\""
        },
        {
         "metadata": "{}",
         "name": "PaymentMethod",
         "type": "\"string\""
        },
        {
         "metadata": "{}",
         "name": "StoreLocation",
         "type": "\"string\""
        },
        {
         "metadata": "{}",
         "name": "TransactionTimestamp",
         "type": "\"timestamp\""
        },
        {
         "metadata": "{}",
         "name": "SaleAmount1",
         "type": "\"integer\""
        }
       ],
       "type": "table"
      }
     },
     "output_type": "display_data"
    }
   ],
   "source": [
    "# Check IntegerType even though inferSchema already set SaleAmount to DoubleType\n",
    "display(sales_df_transformed.withColumn(\"SaleAmount1\", sales_df_transformed.SaleAmount.cast(IntegerType())).limit(5))\n",
    "# sales_df_transformed.withColumn(\"SaleAmount1\", col(\"SaleAmount\").cast(IntegerType())).show()"
   ]
  },
  {
   "cell_type": "markdown",
   "metadata": {
    "application/vnd.databricks.v1+cell": {
     "cellMetadata": {},
     "inputWidgets": {},
     "nuid": "cce77373-619c-44ac-bbc4-182b185734d5",
     "showTitle": false,
     "tableResultSettingsMap": {},
     "title": ""
    }
   },
   "source": [
    "#### Handling Missing Values"
   ]
  },
  {
   "cell_type": "code",
   "execution_count": 0,
   "metadata": {
    "application/vnd.databricks.v1+cell": {
     "cellMetadata": {
      "byteLimit": 2048000,
      "rowLimit": 10000
     },
     "inputWidgets": {},
     "nuid": "8370c860-f8c9-4db3-819a-4f125258e480",
     "showTitle": false,
     "tableResultSettingsMap": {},
     "title": ""
    }
   },
   "outputs": [
    {
     "output_type": "execute_result",
     "data": {
      "text/plain": [
       "6"
      ]
     },
     "execution_count": 61,
     "metadata": {},
     "output_type": "execute_result"
    }
   ],
   "source": [
    "# Count  Null elements in \"PaymentMethod\" column\n",
    "sales_df_transformed.filter(col(\"PaymentMethod\").isNull()).count()"
   ]
  },
  {
   "cell_type": "code",
   "execution_count": 0,
   "metadata": {
    "application/vnd.databricks.v1+cell": {
     "cellMetadata": {
      "byteLimit": 2048000,
      "rowLimit": 10000
     },
     "inputWidgets": {},
     "nuid": "4598bd35-33e5-45d1-8c1e-2111496b2557",
     "showTitle": false,
     "tableResultSettingsMap": {},
     "title": ""
    }
   },
   "outputs": [
    {
     "output_type": "display_data",
     "data": {
      "text/html": [
       "<style scoped>\n",
       "  .table-result-container {\n",
       "    max-height: 300px;\n",
       "    overflow: auto;\n",
       "  }\n",
       "  table, th, td {\n",
       "    border: 1px solid black;\n",
       "    border-collapse: collapse;\n",
       "  }\n",
       "  th, td {\n",
       "    padding: 5px;\n",
       "  }\n",
       "  th {\n",
       "    text-align: left;\n",
       "  }\n",
       "</style><div class='table-result-container'><table class='table-result'><thead style='background-color: white'><tr><th>TransactionID</th><th>TransactionDate</th><th>CustomerID</th><th>Product</th><th>ProductCategory</th><th>Quantity</th><th>SaleAmount</th><th>PaymentMethod</th><th>StoreLocation</th><th>TransactionTimestamp</th></tr></thead><tbody><tr><td>TID002</td><td>2023-01-16T17:57:00Z</td><td>CUST102</td><td>Wireless Mouse</td><td>Electronics</td><td>2</td><td>2088.02</td><td>null</td><td>Online</td><td>2023-01-16T17:57:00Z</td></tr><tr><td>TID008</td><td>2023-01-22T12:27:00Z</td><td>CUST102</td><td>Desk Lamp</td><td>Furniture</td><td>1</td><td>1099.0</td><td>null</td><td>Online</td><td>2023-01-22T12:27:00Z</td></tr><tr><td>TID011</td><td>2023-01-25T16:52:00Z</td><td>CUST123</td><td>Gaming Keyboard</td><td>Electronics</td><td>3</td><td>2193.93</td><td>null</td><td>Los Angeles</td><td>2023-01-25T16:52:00Z</td></tr><tr><td>TID026</td><td>2023-02-09T14:59:00Z</td><td>CUST450</td><td>Desk Organizer</td><td>Furniture</td><td>3</td><td>2599.89</td><td>null</td><td>New York</td><td>2023-02-09T14:59:00Z</td></tr><tr><td>TID029</td><td>2023-02-12T17:57:00Z</td><td>CUST999</td><td>Standing Desk</td><td>Furniture</td><td>2</td><td>2342.98</td><td>null</td><td>New York</td><td>2023-02-12T17:57:00Z</td></tr><tr><td>TID030</td><td>2023-02-13T12:17:00Z</td><td>CUST999</td><td>Microwave Oven</td><td>Appliances</td><td>3</td><td>154.64999999999998</td><td>null</td><td>Online</td><td>2023-02-13T12:17:00Z</td></tr></tbody></table></div>"
      ]
     },
     "metadata": {
      "application/vnd.databricks.v1+output": {
       "addedWidgets": {},
       "aggData": [],
       "aggError": "",
       "aggOverflow": false,
       "aggSchema": [],
       "aggSeriesLimitReached": false,
       "aggType": "",
       "arguments": {},
       "columnCustomDisplayInfos": {},
       "data": [
        [
         "TID002",
         "2023-01-16T17:57:00Z",
         "CUST102",
         "Wireless Mouse",
         "Electronics",
         2,
         2088.02,
         null,
         "Online",
         "2023-01-16T17:57:00Z"
        ],
        [
         "TID008",
         "2023-01-22T12:27:00Z",
         "CUST102",
         "Desk Lamp",
         "Furniture",
         1,
         1099.0,
         null,
         "Online",
         "2023-01-22T12:27:00Z"
        ],
        [
         "TID011",
         "2023-01-25T16:52:00Z",
         "CUST123",
         "Gaming Keyboard",
         "Electronics",
         3,
         2193.93,
         null,
         "Los Angeles",
         "2023-01-25T16:52:00Z"
        ],
        [
         "TID026",
         "2023-02-09T14:59:00Z",
         "CUST450",
         "Desk Organizer",
         "Furniture",
         3,
         2599.89,
         null,
         "New York",
         "2023-02-09T14:59:00Z"
        ],
        [
         "TID029",
         "2023-02-12T17:57:00Z",
         "CUST999",
         "Standing Desk",
         "Furniture",
         2,
         2342.98,
         null,
         "New York",
         "2023-02-12T17:57:00Z"
        ],
        [
         "TID030",
         "2023-02-13T12:17:00Z",
         "CUST999",
         "Microwave Oven",
         "Appliances",
         3,
         154.64999999999998,
         null,
         "Online",
         "2023-02-13T12:17:00Z"
        ]
       ],
       "datasetInfos": [],
       "dbfsResultPath": null,
       "isJsonSchema": true,
       "metadata": {},
       "overflow": false,
       "plotOptions": {
        "customPlotOptions": {},
        "displayType": "table",
        "pivotAggregation": null,
        "pivotColumns": null,
        "xColumns": null,
        "yColumns": null
       },
       "removedWidgets": [],
       "schema": [
        {
         "metadata": "{}",
         "name": "TransactionID",
         "type": "\"string\""
        },
        {
         "metadata": "{}",
         "name": "TransactionDate",
         "type": "\"timestamp\""
        },
        {
         "metadata": "{}",
         "name": "CustomerID",
         "type": "\"string\""
        },
        {
         "metadata": "{}",
         "name": "Product",
         "type": "\"string\""
        },
        {
         "metadata": "{}",
         "name": "ProductCategory",
         "type": "\"string\""
        },
        {
         "metadata": "{}",
         "name": "Quantity",
         "type": "\"integer\""
        },
        {
         "metadata": "{}",
         "name": "SaleAmount",
         "type": "\"double\""
        },
        {
         "metadata": "{}",
         "name": "PaymentMethod",
         "type": "\"string\""
        },
        {
         "metadata": "{}",
         "name": "StoreLocation",
         "type": "\"string\""
        },
        {
         "metadata": "{}",
         "name": "TransactionTimestamp",
         "type": "\"timestamp\""
        }
       ],
       "type": "table"
      }
     },
     "output_type": "display_data"
    }
   ],
   "source": [
    "display(sales_df_transformed.filter(isnull(col(\"PaymentMethod\"))))"
   ]
  },
  {
   "cell_type": "code",
   "execution_count": 0,
   "metadata": {
    "application/vnd.databricks.v1+cell": {
     "cellMetadata": {
      "byteLimit": 2048000,
      "rowLimit": 10000
     },
     "inputWidgets": {},
     "nuid": "07e1bf30-4a96-462a-a052-4a1fe2e4278a",
     "showTitle": false,
     "tableResultSettingsMap": {},
     "title": ""
    }
   },
   "outputs": [
    {
     "output_type": "display_data",
     "data": {
      "text/html": [
       "<style scoped>\n",
       "  .table-result-container {\n",
       "    max-height: 300px;\n",
       "    overflow: auto;\n",
       "  }\n",
       "  table, th, td {\n",
       "    border: 1px solid black;\n",
       "    border-collapse: collapse;\n",
       "  }\n",
       "  th, td {\n",
       "    padding: 5px;\n",
       "  }\n",
       "  th {\n",
       "    text-align: left;\n",
       "  }\n",
       "</style><div class='table-result-container'><table class='table-result'><thead style='background-color: white'><tr><th>TransactionID</th><th>TransactionDate</th><th>CustomerID</th><th>Product</th><th>ProductCategory</th><th>Quantity</th><th>SaleAmount</th><th>PaymentMethod</th><th>StoreLocation</th><th>TransactionTimestamp</th></tr></thead><tbody><tr><td>TID002</td><td>2023-01-16T17:57:00Z</td><td>CUST102</td><td>Wireless Mouse</td><td>Electronics</td><td>2</td><td>2088.02</td><td>Unknown</td><td>Online</td><td>2023-01-16T17:57:00Z</td></tr></tbody></table></div>"
      ]
     },
     "metadata": {
      "application/vnd.databricks.v1+output": {
       "addedWidgets": {},
       "aggData": [],
       "aggError": "",
       "aggOverflow": false,
       "aggSchema": [],
       "aggSeriesLimitReached": false,
       "aggType": "",
       "arguments": {},
       "columnCustomDisplayInfos": {},
       "data": [
        [
         "TID002",
         "2023-01-16T17:57:00Z",
         "CUST102",
         "Wireless Mouse",
         "Electronics",
         2,
         2088.02,
         "Unknown",
         "Online",
         "2023-01-16T17:57:00Z"
        ]
       ],
       "datasetInfos": [],
       "dbfsResultPath": null,
       "isJsonSchema": true,
       "metadata": {},
       "overflow": false,
       "plotOptions": {
        "customPlotOptions": {},
        "displayType": "table",
        "pivotAggregation": null,
        "pivotColumns": null,
        "xColumns": null,
        "yColumns": null
       },
       "removedWidgets": [],
       "schema": [
        {
         "metadata": "{}",
         "name": "TransactionID",
         "type": "\"string\""
        },
        {
         "metadata": "{}",
         "name": "TransactionDate",
         "type": "\"timestamp\""
        },
        {
         "metadata": "{}",
         "name": "CustomerID",
         "type": "\"string\""
        },
        {
         "metadata": "{}",
         "name": "Product",
         "type": "\"string\""
        },
        {
         "metadata": "{}",
         "name": "ProductCategory",
         "type": "\"string\""
        },
        {
         "metadata": "{}",
         "name": "Quantity",
         "type": "\"integer\""
        },
        {
         "metadata": "{}",
         "name": "SaleAmount",
         "type": "\"double\""
        },
        {
         "metadata": "{}",
         "name": "PaymentMethod",
         "type": "\"string\""
        },
        {
         "metadata": "{}",
         "name": "StoreLocation",
         "type": "\"string\""
        },
        {
         "metadata": "{}",
         "name": "TransactionTimestamp",
         "type": "\"timestamp\""
        }
       ],
       "type": "table"
      }
     },
     "output_type": "display_data"
    }
   ],
   "source": [
    "# Checking filling the null elements with \"Unknown\" in \"PaymentMethod\" columns\n",
    "default_method = \"Unknown\"\n",
    "display(sales_df_transformed.fillna(default_method, subset=[\"PaymentMethod\"]).filter(col(\"TransactionID\") == \"TID002\"))"
   ]
  },
  {
   "cell_type": "code",
   "execution_count": 0,
   "metadata": {
    "application/vnd.databricks.v1+cell": {
     "cellMetadata": {
      "byteLimit": 2048000,
      "rowLimit": 10000
     },
     "inputWidgets": {},
     "nuid": "4a4f8785-35b6-4512-85e5-558b51672f37",
     "showTitle": false,
     "tableResultSettingsMap": {},
     "title": ""
    }
   },
   "outputs": [],
   "source": [
    "# Filling the null elements with \"Unknown\" in \"PaymentMethod\" columns\n",
    "sales_df_transformed = sales_df_transformed.fillna(default_method, subset=[\"PaymentMethod\"])"
   ]
  },
  {
   "cell_type": "markdown",
   "metadata": {
    "application/vnd.databricks.v1+cell": {
     "cellMetadata": {},
     "inputWidgets": {},
     "nuid": "787c57ec-4081-4d60-98d7-404648414e6e",
     "showTitle": false,
     "tableResultSettingsMap": {},
     "title": ""
    }
   },
   "source": [
    "#### Creating New Columns"
   ]
  },
  {
   "cell_type": "code",
   "execution_count": 0,
   "metadata": {
    "application/vnd.databricks.v1+cell": {
     "cellMetadata": {
      "byteLimit": 2048000,
      "rowLimit": 10000
     },
     "inputWidgets": {},
     "nuid": "140f88ab-eeef-4541-9c77-67f881e93c01",
     "showTitle": false,
     "tableResultSettingsMap": {},
     "title": ""
    }
   },
   "outputs": [
    {
     "output_type": "execute_result",
     "data": {
      "text/plain": [
       "0"
      ]
     },
     "execution_count": 73,
     "metadata": {},
     "output_type": "execute_result"
    }
   ],
   "source": [
    "# Check if any value in \"Quantity\" column less than or equal to 0\n",
    "sales_df_transformed.filter(col(\"Quantity\") <= 0).count()"
   ]
  },
  {
   "cell_type": "code",
   "execution_count": 0,
   "metadata": {
    "application/vnd.databricks.v1+cell": {
     "cellMetadata": {
      "byteLimit": 2048000,
      "rowLimit": 10000
     },
     "inputWidgets": {},
     "nuid": "e899984d-e128-4049-847b-ae07af0742c0",
     "showTitle": false,
     "tableResultSettingsMap": {},
     "title": ""
    }
   },
   "outputs": [
    {
     "output_type": "execute_result",
     "data": {
      "text/plain": [
       "0"
      ]
     },
     "execution_count": 74,
     "metadata": {},
     "output_type": "execute_result"
    }
   ],
   "source": [
    "# Check if any value in \"SaleAmount\" column less than or equal to 0\n",
    "sales_df_transformed.filter(col(\"SaleAmount\") == 0).count()"
   ]
  },
  {
   "cell_type": "code",
   "execution_count": 0,
   "metadata": {
    "application/vnd.databricks.v1+cell": {
     "cellMetadata": {
      "byteLimit": 2048000,
      "rowLimit": 10000
     },
     "inputWidgets": {},
     "nuid": "ef48466e-47d5-49e4-aec1-93128ea46d05",
     "showTitle": false,
     "tableResultSettingsMap": {},
     "title": ""
    }
   },
   "outputs": [],
   "source": [
    "# Create a new column called \"TotalItemCost\" by multiplying \"SaleAmount\" and \"Quantity\"\n",
    "sales_df_transformed = sales_df_transformed.withColumn(\"TotalItemCost\", col(\"SaleAmount\") * col(\"Quantity\"))"
   ]
  },
  {
   "cell_type": "code",
   "execution_count": 0,
   "metadata": {
    "application/vnd.databricks.v1+cell": {
     "cellMetadata": {
      "byteLimit": 2048000,
      "rowLimit": 10000
     },
     "inputWidgets": {},
     "nuid": "cb74bd8a-d89a-498c-8619-edc136b89eed",
     "showTitle": false,
     "tableResultSettingsMap": {},
     "title": ""
    }
   },
   "outputs": [
    {
     "output_type": "display_data",
     "data": {
      "text/html": [
       "<style scoped>\n",
       "  .table-result-container {\n",
       "    max-height: 300px;\n",
       "    overflow: auto;\n",
       "  }\n",
       "  table, th, td {\n",
       "    border: 1px solid black;\n",
       "    border-collapse: collapse;\n",
       "  }\n",
       "  th, td {\n",
       "    padding: 5px;\n",
       "  }\n",
       "  th {\n",
       "    text-align: left;\n",
       "  }\n",
       "</style><div class='table-result-container'><table class='table-result'><thead style='background-color: white'><tr><th>TransactionID</th><th>TransactionDate</th><th>CustomerID</th><th>Product</th><th>ProductCategory</th><th>Quantity</th><th>SaleAmount</th><th>PaymentMethod</th><th>StoreLocation</th><th>TransactionTimestamp</th><th>TotalItemCost</th></tr></thead><tbody><tr><td>TID001</td><td>2023-01-15T17:49:00Z</td><td>CUST085</td><td>Laptop Pro</td><td>Electronics</td><td>3</td><td>2528.43</td><td>Credit Card</td><td>Los Angeles</td><td>2023-01-15T17:49:00Z</td><td>7585.289999999999</td></tr><tr><td>TID002</td><td>2023-01-16T17:57:00Z</td><td>CUST102</td><td>Wireless Mouse</td><td>Electronics</td><td>2</td><td>2088.02</td><td>Unknown</td><td>Online</td><td>2023-01-16T17:57:00Z</td><td>4176.04</td></tr><tr><td>TID003</td><td>2023-01-17T13:50:00Z</td><td>CUST301</td><td>Office Chair</td><td>Furniture</td><td>2</td><td>864.66</td><td>PayPal</td><td>Los Angeles</td><td>2023-01-17T13:50:00Z</td><td>1729.32</td></tr><tr><td>TID004</td><td>2023-01-18T16:06:00Z</td><td>CUST102</td><td>Coffee Maker</td><td>Appliances</td><td>2</td><td>2688.94</td><td>PayPal</td><td>Online</td><td>2023-01-18T16:06:00Z</td><td>5377.88</td></tr><tr><td>TID005</td><td>2023-01-19T11:33:00Z</td><td>CUST301</td><td>Data Science Intro</td><td>Books</td><td>3</td><td>1949.52</td><td>Gift Card</td><td>Chicago</td><td>2023-01-19T11:33:00Z</td><td>5848.5599999999995</td></tr></tbody></table></div>"
      ]
     },
     "metadata": {
      "application/vnd.databricks.v1+output": {
       "addedWidgets": {},
       "aggData": [],
       "aggError": "",
       "aggOverflow": false,
       "aggSchema": [],
       "aggSeriesLimitReached": false,
       "aggType": "",
       "arguments": {},
       "columnCustomDisplayInfos": {},
       "data": [
        [
         "TID001",
         "2023-01-15T17:49:00Z",
         "CUST085",
         "Laptop Pro",
         "Electronics",
         3,
         2528.43,
         "Credit Card",
         "Los Angeles",
         "2023-01-15T17:49:00Z",
         7585.289999999999
        ],
        [
         "TID002",
         "2023-01-16T17:57:00Z",
         "CUST102",
         "Wireless Mouse",
         "Electronics",
         2,
         2088.02,
         "Unknown",
         "Online",
         "2023-01-16T17:57:00Z",
         4176.04
        ],
        [
         "TID003",
         "2023-01-17T13:50:00Z",
         "CUST301",
         "Office Chair",
         "Furniture",
         2,
         864.66,
         "PayPal",
         "Los Angeles",
         "2023-01-17T13:50:00Z",
         1729.32
        ],
        [
         "TID004",
         "2023-01-18T16:06:00Z",
         "CUST102",
         "Coffee Maker",
         "Appliances",
         2,
         2688.94,
         "PayPal",
         "Online",
         "2023-01-18T16:06:00Z",
         5377.88
        ],
        [
         "TID005",
         "2023-01-19T11:33:00Z",
         "CUST301",
         "Data Science Intro",
         "Books",
         3,
         1949.52,
         "Gift Card",
         "Chicago",
         "2023-01-19T11:33:00Z",
         5848.5599999999995
        ]
       ],
       "datasetInfos": [],
       "dbfsResultPath": null,
       "isJsonSchema": true,
       "metadata": {},
       "overflow": false,
       "plotOptions": {
        "customPlotOptions": {},
        "displayType": "table",
        "pivotAggregation": null,
        "pivotColumns": null,
        "xColumns": null,
        "yColumns": null
       },
       "removedWidgets": [],
       "schema": [
        {
         "metadata": "{}",
         "name": "TransactionID",
         "type": "\"string\""
        },
        {
         "metadata": "{}",
         "name": "TransactionDate",
         "type": "\"timestamp\""
        },
        {
         "metadata": "{}",
         "name": "CustomerID",
         "type": "\"string\""
        },
        {
         "metadata": "{}",
         "name": "Product",
         "type": "\"string\""
        },
        {
         "metadata": "{}",
         "name": "ProductCategory",
         "type": "\"string\""
        },
        {
         "metadata": "{}",
         "name": "Quantity",
         "type": "\"integer\""
        },
        {
         "metadata": "{}",
         "name": "SaleAmount",
         "type": "\"double\""
        },
        {
         "metadata": "{}",
         "name": "PaymentMethod",
         "type": "\"string\""
        },
        {
         "metadata": "{}",
         "name": "StoreLocation",
         "type": "\"string\""
        },
        {
         "metadata": "{}",
         "name": "TransactionTimestamp",
         "type": "\"timestamp\""
        },
        {
         "metadata": "{}",
         "name": "TotalItemCost",
         "type": "\"double\""
        }
       ],
       "type": "table"
      }
     },
     "output_type": "display_data"
    }
   ],
   "source": [
    "# Display the first 5 rows of the transformed sales DataFrame\n",
    "display(sales_df_transformed.limit(5))"
   ]
  },
  {
   "cell_type": "markdown",
   "metadata": {
    "application/vnd.databricks.v1+cell": {
     "cellMetadata": {},
     "inputWidgets": {},
     "nuid": "8d420ae8-67ec-436d-8a53-8a0d954021f2",
     "showTitle": false,
     "tableResultSettingsMap": {},
     "title": ""
    }
   },
   "source": [
    "#### Filtering and Ordering"
   ]
  },
  {
   "cell_type": "code",
   "execution_count": 0,
   "metadata": {
    "application/vnd.databricks.v1+cell": {
     "cellMetadata": {
      "byteLimit": 2048000,
      "rowLimit": 10000
     },
     "inputWidgets": {},
     "nuid": "439ad5e3-31b5-44f2-b971-e47812e0f8e1",
     "showTitle": false,
     "tableResultSettingsMap": {},
     "title": ""
    }
   },
   "outputs": [],
   "source": [
    "# Filter the DataFrame to include only credit card sales and order by SaleAmount in descending order\n",
    "credit_card_sales_df = sales_df_transformed.filter(col(\"PaymentMethod\") == \"Credit Card\") \\\n",
    ".orderBy(col(\"SaleAmount\").desc())"
   ]
  },
  {
   "cell_type": "code",
   "execution_count": 0,
   "metadata": {
    "application/vnd.databricks.v1+cell": {
     "cellMetadata": {
      "byteLimit": 2048000,
      "rowLimit": 10000
     },
     "inputWidgets": {},
     "nuid": "c17c3413-59d1-44f4-af9b-8a9b2efbe334",
     "showTitle": false,
     "tableResultSettingsMap": {},
     "title": ""
    }
   },
   "outputs": [
    {
     "output_type": "execute_result",
     "data": {
      "text/plain": [
       "2"
      ]
     },
     "execution_count": 84,
     "metadata": {},
     "output_type": "execute_result"
    }
   ],
   "source": [
    "credit_card_sales_df.count()"
   ]
  },
  {
   "cell_type": "code",
   "execution_count": 0,
   "metadata": {
    "application/vnd.databricks.v1+cell": {
     "cellMetadata": {
      "byteLimit": 2048000,
      "rowLimit": 10000
     },
     "inputWidgets": {},
     "nuid": "bd8f5102-c1d4-4885-8a59-62f075ed5030",
     "showTitle": false,
     "tableResultSettingsMap": {},
     "title": ""
    }
   },
   "outputs": [
    {
     "output_type": "display_data",
     "data": {
      "text/html": [
       "<style scoped>\n",
       "  .table-result-container {\n",
       "    max-height: 300px;\n",
       "    overflow: auto;\n",
       "  }\n",
       "  table, th, td {\n",
       "    border: 1px solid black;\n",
       "    border-collapse: collapse;\n",
       "  }\n",
       "  th, td {\n",
       "    padding: 5px;\n",
       "  }\n",
       "  th {\n",
       "    text-align: left;\n",
       "  }\n",
       "</style><div class='table-result-container'><table class='table-result'><thead style='background-color: white'><tr><th>TransactionID</th><th>TransactionDate</th><th>CustomerID</th><th>Product</th><th>ProductCategory</th><th>Quantity</th><th>SaleAmount</th><th>PaymentMethod</th><th>StoreLocation</th><th>TransactionTimestamp</th><th>TotalItemCost</th></tr></thead><tbody><tr><td>TID001</td><td>2023-01-15T17:49:00Z</td><td>CUST085</td><td>Laptop Pro</td><td>Electronics</td><td>3</td><td>2528.43</td><td>Credit Card</td><td>Los Angeles</td><td>2023-01-15T17:49:00Z</td><td>7585.289999999999</td></tr><tr><td>TID021</td><td>2023-02-04T16:56:00Z</td><td>CUST007</td><td>T-Shirt</td><td>Clothing</td><td>2</td><td>1123.56</td><td>Credit Card</td><td>Online</td><td>2023-02-04T16:56:00Z</td><td>2247.12</td></tr></tbody></table></div>"
      ]
     },
     "metadata": {
      "application/vnd.databricks.v1+output": {
       "addedWidgets": {},
       "aggData": [],
       "aggError": "",
       "aggOverflow": false,
       "aggSchema": [],
       "aggSeriesLimitReached": false,
       "aggType": "",
       "arguments": {},
       "columnCustomDisplayInfos": {},
       "data": [
        [
         "TID001",
         "2023-01-15T17:49:00Z",
         "CUST085",
         "Laptop Pro",
         "Electronics",
         3,
         2528.43,
         "Credit Card",
         "Los Angeles",
         "2023-01-15T17:49:00Z",
         7585.289999999999
        ],
        [
         "TID021",
         "2023-02-04T16:56:00Z",
         "CUST007",
         "T-Shirt",
         "Clothing",
         2,
         1123.56,
         "Credit Card",
         "Online",
         "2023-02-04T16:56:00Z",
         2247.12
        ]
       ],
       "datasetInfos": [],
       "dbfsResultPath": null,
       "isJsonSchema": true,
       "metadata": {},
       "overflow": false,
       "plotOptions": {
        "customPlotOptions": {},
        "displayType": "table",
        "pivotAggregation": null,
        "pivotColumns": null,
        "xColumns": null,
        "yColumns": null
       },
       "removedWidgets": [],
       "schema": [
        {
         "metadata": "{}",
         "name": "TransactionID",
         "type": "\"string\""
        },
        {
         "metadata": "{}",
         "name": "TransactionDate",
         "type": "\"timestamp\""
        },
        {
         "metadata": "{}",
         "name": "CustomerID",
         "type": "\"string\""
        },
        {
         "metadata": "{}",
         "name": "Product",
         "type": "\"string\""
        },
        {
         "metadata": "{}",
         "name": "ProductCategory",
         "type": "\"string\""
        },
        {
         "metadata": "{}",
         "name": "Quantity",
         "type": "\"integer\""
        },
        {
         "metadata": "{}",
         "name": "SaleAmount",
         "type": "\"double\""
        },
        {
         "metadata": "{}",
         "name": "PaymentMethod",
         "type": "\"string\""
        },
        {
         "metadata": "{}",
         "name": "StoreLocation",
         "type": "\"string\""
        },
        {
         "metadata": "{}",
         "name": "TransactionTimestamp",
         "type": "\"timestamp\""
        },
        {
         "metadata": "{}",
         "name": "TotalItemCost",
         "type": "\"double\""
        }
       ],
       "type": "table"
      }
     },
     "output_type": "display_data"
    }
   ],
   "source": [
    "display(credit_card_sales_df)"
   ]
  },
  {
   "cell_type": "markdown",
   "metadata": {
    "application/vnd.databricks.v1+cell": {
     "cellMetadata": {},
     "inputWidgets": {},
     "nuid": "1f5224c7-e0d1-4afc-a389-5bde791cdabd",
     "showTitle": false,
     "tableResultSettingsMap": {},
     "title": ""
    }
   },
   "source": [
    "## Storing Processed Data"
   ]
  },
  {
   "cell_type": "code",
   "execution_count": 0,
   "metadata": {
    "application/vnd.databricks.v1+cell": {
     "cellMetadata": {
      "byteLimit": 2048000,
      "rowLimit": 10000
     },
     "inputWidgets": {},
     "nuid": "844882c7-dc3e-418d-98a8-440818aacd2b",
     "showTitle": false,
     "tableResultSettingsMap": {},
     "title": ""
    }
   },
   "outputs": [
    {
     "output_type": "stream",
     "name": "stdout",
     "output_type": "stream",
     "text": [
      "DataFrame saved to Parquet at: /FileStore/tables/innovateretail/processed_sales_parquet\n"
     ]
    }
   ],
   "source": [
    "output_path_parquet = \"/FileStore/tables/innovateretail/processed_sales_parquet\"\n",
    "sales_df_transformed.write.mode(\"overwrite\").parquet(output_path_parquet)\n",
    "print(f\"DataFrame saved to Parquet at: {output_path_parquet}\")"
   ]
  },
  {
   "cell_type": "code",
   "execution_count": 0,
   "metadata": {
    "application/vnd.databricks.v1+cell": {
     "cellMetadata": {
      "byteLimit": 2048000,
      "rowLimit": 10000
     },
     "inputWidgets": {},
     "nuid": "31594f8d-bc47-4823-a452-e4868f9d818e",
     "showTitle": false,
     "tableResultSettingsMap": {},
     "title": ""
    }
   },
   "outputs": [
    {
     "output_type": "display_data",
     "data": {
      "text/html": [
       "<style scoped>\n",
       "  .table-result-container {\n",
       "    max-height: 300px;\n",
       "    overflow: auto;\n",
       "  }\n",
       "  table, th, td {\n",
       "    border: 1px solid black;\n",
       "    border-collapse: collapse;\n",
       "  }\n",
       "  th, td {\n",
       "    padding: 5px;\n",
       "  }\n",
       "  th {\n",
       "    text-align: left;\n",
       "  }\n",
       "</style><div class='table-result-container'><table class='table-result'><thead style='background-color: white'><tr><th>path</th><th>name</th><th>size</th><th>modificationTime</th></tr></thead><tbody><tr><td>dbfs:/FileStore/tables/innovateretail/processed_sales_parquet/_SUCCESS</td><td>_SUCCESS</td><td>0</td><td>1748254472000</td></tr><tr><td>dbfs:/FileStore/tables/innovateretail/processed_sales_parquet/_committed_8353880025805932968</td><td>_committed_8353880025805932968</td><td>123</td><td>1748254472000</td></tr><tr><td>dbfs:/FileStore/tables/innovateretail/processed_sales_parquet/_started_8353880025805932968</td><td>_started_8353880025805932968</td><td>0</td><td>1748254472000</td></tr><tr><td>dbfs:/FileStore/tables/innovateretail/processed_sales_parquet/part-00000-tid-8353880025805932968-5f8798dd-3a55-42e6-a9ca-862c99b9dc85-62-1.c000.snappy.parquet</td><td>part-00000-tid-8353880025805932968-5f8798dd-3a55-42e6-a9ca-862c99b9dc85-62-1.c000.snappy.parquet</td><td>4978</td><td>1748254472000</td></tr></tbody></table></div>"
      ]
     },
     "metadata": {
      "application/vnd.databricks.v1+output": {
       "addedWidgets": {},
       "aggData": [],
       "aggError": "",
       "aggOverflow": false,
       "aggSchema": [],
       "aggSeriesLimitReached": false,
       "aggType": "",
       "arguments": {},
       "columnCustomDisplayInfos": {},
       "data": [
        [
         "dbfs:/FileStore/tables/innovateretail/processed_sales_parquet/_SUCCESS",
         "_SUCCESS",
         0,
         1748254472000
        ],
        [
         "dbfs:/FileStore/tables/innovateretail/processed_sales_parquet/_committed_8353880025805932968",
         "_committed_8353880025805932968",
         123,
         1748254472000
        ],
        [
         "dbfs:/FileStore/tables/innovateretail/processed_sales_parquet/_started_8353880025805932968",
         "_started_8353880025805932968",
         0,
         1748254472000
        ],
        [
         "dbfs:/FileStore/tables/innovateretail/processed_sales_parquet/part-00000-tid-8353880025805932968-5f8798dd-3a55-42e6-a9ca-862c99b9dc85-62-1.c000.snappy.parquet",
         "part-00000-tid-8353880025805932968-5f8798dd-3a55-42e6-a9ca-862c99b9dc85-62-1.c000.snappy.parquet",
         4978,
         1748254472000
        ]
       ],
       "datasetInfos": [],
       "dbfsResultPath": null,
       "isJsonSchema": true,
       "metadata": {},
       "overflow": false,
       "plotOptions": {
        "customPlotOptions": {},
        "displayType": "table",
        "pivotAggregation": null,
        "pivotColumns": null,
        "xColumns": null,
        "yColumns": null
       },
       "removedWidgets": [],
       "schema": [
        {
         "metadata": "{}",
         "name": "path",
         "type": "\"string\""
        },
        {
         "metadata": "{}",
         "name": "name",
         "type": "\"string\""
        },
        {
         "metadata": "{}",
         "name": "size",
         "type": "\"long\""
        },
        {
         "metadata": "{}",
         "name": "modificationTime",
         "type": "\"long\""
        }
       ],
       "type": "table"
      }
     },
     "output_type": "display_data"
    }
   ],
   "source": [
    "%fs ls /FileStore/tables/innovateretail/processed_sales_parquet/"
   ]
  },
  {
   "cell_type": "code",
   "execution_count": 0,
   "metadata": {
    "application/vnd.databricks.v1+cell": {
     "cellMetadata": {},
     "inputWidgets": {},
     "nuid": "90ac991d-6f83-445b-b8ed-1485ed6dfe71",
     "showTitle": false,
     "tableResultSettingsMap": {},
     "title": ""
    }
   },
   "outputs": [],
   "source": []
  }
 ],
 "metadata": {
  "application/vnd.databricks.v1+notebook": {
   "computePreferences": null,
   "dashboards": [],
   "environmentMetadata": {
    "base_environment": "",
    "environment_version": "2"
   },
   "inputWidgetPreferences": null,
   "language": "python",
   "notebookMetadata": {
    "mostRecentlyExecutedCommandWithImplicitDF": {
     "commandId": 6132678338491433,
     "dataframes": [
      "_sqldf"
     ]
    },
    "pythonIndentUnit": 4
   },
   "notebookName": "W1_SalesData_Exploration",
   "widgets": {}
  },
  "language_info": {
   "name": "python"
  }
 },
 "nbformat": 4,
 "nbformat_minor": 0
}